{
 "cells": [
  {
   "cell_type": "code",
   "execution_count": 2,
   "metadata": {
    "collapsed": true
   },
   "outputs": [],
   "source": [
    "import pymongo\n",
    "import pandas as pd \n",
    "import numpy as np"
   ]
  },
  {
   "cell_type": "code",
   "execution_count": 3,
   "metadata": {
    "collapsed": true
   },
   "outputs": [],
   "source": [
    "data = pd.read_csv('/Users/yuyunli/Downloads/jingyuan.csv')"
   ]
  },
  {
   "cell_type": "code",
   "execution_count": 4,
   "metadata": {
    "collapsed": true
   },
   "outputs": [],
   "source": [
    "# print(data)"
   ]
  },
  {
   "cell_type": "code",
   "execution_count": 17,
   "metadata": {},
   "outputs": [
    {
     "name": "stdout",
     "output_type": "stream",
     "text": [
      "(387959, 8)\n",
      "[['83bcbb58-555e-11e7-94aa-f3fb638c302d' '587b631a62de3357b0b22d33'\n",
      "  'startVideo' 2147483647 nan nan 0.0 nan]\n",
      " ['83a8e704-555e-11e7-949e-8fcc1a16ded8' '5af6b5a6aea83f289269e85b'\n",
      "  'startVideo' 2147483647 nan nan 0.0 nan]\n",
      " ['83bcbb58-555e-11e7-94aa-f3fb638c302d' '594061454d95b66e2537f50e'\n",
      "  'startVideo' 2147483647 nan nan 76998.0 nan]\n",
      " ['83bcbb58-555e-11e7-94aa-f3fb638c302d' '5aa7cb7ab9c0b32892e2214f'\n",
      "  'dragVideo' 2147483647 165501.0 194808.0 nan nan]\n",
      " ['837bc38c-555e-11e7-9482-93e059bc68e2' '5afe5f4ad2b85a2872d5ef1e'\n",
      "  'startVideo' 2147483647 nan nan 0.0 nan]\n",
      " ['837bc38c-555e-11e7-9482-93e059bc68e2' '5ad13e87511dd128fbf037d6'\n",
      "  'startVideo' 2147483647 nan nan 0.0 nan]\n",
      " ['83923900-555e-11e7-9490-375a9082275e' '57f7038f4548b5a70594d0d8'\n",
      "  'startVideo' 2147483647 nan nan 0.0 nan]\n",
      " ['837bc38c-555e-11e7-9482-93e059bc68e2' '5af5815a3c773f289f110187'\n",
      "  'dragVideo' 2147483647 0.0 28727.0 nan nan]\n",
      " ['837bc38c-555e-11e7-9482-93e059bc68e2' '5b08d2eea813c3280f5b9e5a'\n",
      "  'dragVideo' 2147483647 288001.0 296798.0 nan nan]\n",
      " ['83a8e704-555e-11e7-949e-8fcc1a16ded8' '5af6b5a6aea83f289269e85b'\n",
      "  'startVideo' 2147483647 nan nan 0.0 nan]\n",
      " ['837bc38c-555e-11e7-9482-93e059bc68e2' '5ad13e87511dd128fbf037d6'\n",
      "  'finishVideo' 2147483647 nan nan nan nan]\n",
      " ['837bc38c-555e-11e7-9482-93e059bc68e2' '5af5815a3c773f289f110187'\n",
      "  'clickVideoExit' 2147483647 nan nan 31001.0 nan]]\n"
     ]
    }
   ],
   "source": [
    "data2 = np.array(data)\n",
    "data2 = data2[data2[:,3].argsort()]\n",
    "shape = data2.shape\n",
    "print(shape)\n",
    "length = shape[0]\n",
    "width = shape[1]\n",
    "print(data2[:12,:])"
   ]
  },
  {
   "cell_type": "code",
   "execution_count": 23,
   "metadata": {},
   "outputs": [
    {
     "name": "stdout",
     "output_type": "stream",
     "text": [
      "0\n",
      "10000\n",
      "20000\n",
      "30000\n",
      "40000\n",
      "50000\n",
      "60000\n",
      "70000\n",
      "80000\n",
      "90000\n",
      "100000\n",
      "110000\n",
      "120000\n",
      "130000\n",
      "140000\n",
      "150000\n",
      "160000\n",
      "170000\n",
      "180000\n",
      "190000\n",
      "200000\n",
      "210000\n",
      "220000\n",
      "230000\n",
      "240000\n",
      "250000\n",
      "260000\n",
      "270000\n",
      "280000\n",
      "290000\n",
      "300000\n",
      "310000\n",
      "320000\n",
      "330000\n",
      "340000\n",
      "350000\n",
      "360000\n",
      "370000\n",
      "380000\n"
     ]
    }
   ],
   "source": [
    "result = []\n",
    "for i in range(length):\n",
    "    if i%10000 == 0:\n",
    "        print(i)\n",
    "    ele = data2[i,:]\n",
    "    find = False\n",
    "    for res in result: \n",
    "#         print(res)\n",
    "        if res['v_id'] == ele[0] and res['u_id'] == ele[1]:\n",
    "            if ele[2] == 'dragVideo':\n",
    "                if ele[4] < ele[5]:\n",
    "                    res['operation'][-1]['right'].append([ele[4],ele[5]])\n",
    "                else:\n",
    "                    res['operation'][-1]['left'].append([ele[4],ele[5]])\n",
    "            if ele[2] == 'startVideo':\n",
    "                new_op = {}\n",
    "                new_op['startVideo'] = ele[6]\n",
    "                new_op['left'] = []\n",
    "                new_op['right'] = []\n",
    "                res['operation'].append(new_op)\n",
    "            if ele[2] == 'clickVideoExit':\n",
    "                res['operation'][-1]['Exit'] = ele[6]\n",
    "            if ele[2] == 'clickProblemSubmit':\n",
    "                res['operation'][-1]['correct'] = ele[7]\n",
    "                \n",
    "            find = True\n",
    "            break\n",
    "    if find == False and ele[2] == 'startVideo':\n",
    "        new_data = {}\n",
    "        new_data['v_id'] = ele[0]\n",
    "        new_data['u_id'] = ele[1]\n",
    "        new_data['operation'] = []\n",
    "#         if ele[2] == 'dragVideo':\n",
    "#             if ele[4] < ele[5]:\n",
    "#                 new_data['operation'][-1]['right'].append([ele[4],ele[5]])\n",
    "#             else:\n",
    "#                 new_data['operation'][-1]['left'].append([ele[4],ele[5]])\n",
    "#         if ele[2] == 'startVideo':\n",
    "        new_op = {}\n",
    "        new_op['startVideo'] = ele[6]\n",
    "        new_op['left'] = []\n",
    "        new_op['right'] = []\n",
    "        new_data['operation'].append(new_op)\n",
    "#         if ele[2] == 'clickVideoExit':\n",
    "#             new_data['operation'][-1]['Exit'] = ele[6]\n",
    "#         if ele[2] == 'clickProblemSubmit':\n",
    "#             new_data['operation'][-1]['correct'] = ele[7]\n",
    "        result.append(new_data)\n",
    "                \n",
    "# print(result)"
   ]
  },
  {
   "cell_type": "code",
   "execution_count": 28,
   "metadata": {},
   "outputs": [
    {
     "name": "stdout",
     "output_type": "stream",
     "text": [
      "{'v_id': '837bc38c-555e-11e7-9482-93e059bc68e2', 'u_id': '5b08d2eea813c3280f5b9e5a', 'operation': [{'startVideo': 0.0, 'left': [], 'right': [[254001.0, 296798.0]]}, {'startVideo': 1001.0, 'left': [], 'right': []}, {'startVideo': 0.0, 'left': [], 'right': [[0.0, 252405.0], [5501.0, 71662.0], [136001.0, 286228.0]]}, {'startVideo': 979.0, 'left': [], 'right': [], 'Exit': 2001.0}, {'startVideo': 0.0, 'left': [], 'right': []}, {'startVideo': 979.0, 'left': [], 'right': []}, {'startVideo': 979.0, 'left': [], 'right': [], 'Exit': 1001.0}]}\n"
     ]
    }
   ],
   "source": [
    "print(result[9])"
   ]
  },
  {
   "cell_type": "code",
   "execution_count": 14,
   "metadata": {},
   "outputs": [
    {
     "name": "stdout",
     "output_type": "stream",
     "text": [
      "   pop   state     try  year\n",
      "0  1.5    Ohio  [1, 3]  2000\n",
      "1  1.7    Ohio  [2, 4]  2001\n",
      "2  3.6    Ohio  [3, 3]  2002\n",
      "3  2.4  Nevada  [4, 5]  2001\n",
      "4  2.9  Nevada  [3, 4]  2002\n"
     ]
    }
   ],
   "source": [
    "data = {'state': ['Ohio', 'Ohio', 'Ohio', 'Nevada', 'Nevada'],\n",
    "        'year': [2000, 2001, 2002, 2001, 2002],\n",
    "        'pop': [1.5, 1.7, 3.6, 2.4, 2.9],\n",
    "        'try': [[1,3],[2,4],[3,3],[4,5],[3,4]]}\n",
    "frame = pd.DataFrame(data)\n",
    "print(frame)"
   ]
  },
  {
   "cell_type": "code",
   "execution_count": null,
   "metadata": {
    "collapsed": true
   },
   "outputs": [],
   "source": []
  },
  {
   "cell_type": "code",
   "execution_count": 11,
   "metadata": {},
   "outputs": [
    {
     "name": "stdout",
     "output_type": "stream",
     "text": [
      "{0: {'pop': 1.5, 'state': 'Ohio', 'try': [1, 3], 'year': 2000}, 1: {'pop': 1.7, 'state': 'Ohio', 'try': [2, 4], 'year': 2001}, 2: {'pop': 3.6, 'state': 'Ohio', 'try': [3, 3], 'year': 2002}, 3: {'pop': 2.4, 'state': 'Nevada', 'try': [4, 5], 'year': 2001}, 4: {'pop': 2.9, 'state': 'Nevada', 'try': [3, 4], 'year': 2002}}\n"
     ]
    }
   ],
   "source": [
    "new = frame.T.to_dict()\n",
    "print(new)"
   ]
  },
  {
   "cell_type": "code",
   "execution_count": 61,
   "metadata": {},
   "outputs": [
    {
     "ename": "NameError",
     "evalue": "name 'name' is not defined",
     "output_type": "error",
     "traceback": [
      "\u001b[0;31m---------------------------------------------------------------------------\u001b[0m",
      "\u001b[0;31mNameError\u001b[0m                                 Traceback (most recent call last)",
      "\u001b[0;32m<ipython-input-61-2923e1a3980c>\u001b[0m in \u001b[0;36m<module>\u001b[0;34m()\u001b[0m\n\u001b[1;32m     12\u001b[0m student2 = {\n\u001b[1;32m     13\u001b[0m      \u001b[0;34m'id'\u001b[0m\u001b[0;34m:\u001b[0m \u001b[0;34m'20170202'\u001b[0m\u001b[0;34m,\u001b[0m\u001b[0;34m\u001b[0m\u001b[0m\n\u001b[0;32m---> 14\u001b[0;31m     \u001b[0mname\u001b[0m\u001b[0;34m:\u001b[0m \u001b[0;34m'Mike'\u001b[0m\u001b[0;34m,\u001b[0m\u001b[0;34m\u001b[0m\u001b[0m\n\u001b[0m\u001b[1;32m     15\u001b[0m     \u001b[0;34m'age'\u001b[0m\u001b[0;34m:\u001b[0m \u001b[0;36m21\u001b[0m\u001b[0;34m,\u001b[0m\u001b[0;34m\u001b[0m\u001b[0m\n\u001b[1;32m     16\u001b[0m     \u001b[0;34m'gender'\u001b[0m\u001b[0;34m:\u001b[0m \u001b[0;34m'male'\u001b[0m\u001b[0;34m\u001b[0m\u001b[0m\n",
      "\u001b[0;31mNameError\u001b[0m: name 'name' is not defined"
     ]
    }
   ],
   "source": [
    "client = pymongo.MongoClient(host='localhost', port=27017)\n",
    "db = client['1111']\n",
    "collection = db.students\n",
    "student1 = {\n",
    "    'id': '20170101',\n",
    "    'name': 'Jordan',\n",
    "    'age': 20,\n",
    "    'gender': {'right': [['male','female'],['a','b']],\n",
    "               'left': [[1,3],[2,3]]}\n",
    "}\n",
    " \n",
    "student2 = {\n",
    "     'id': '20170202',\n",
    "    'name': 'Mike',\n",
    "    'age': 21,\n",
    "    'gender': 'male'\n",
    "}\n",
    "result = collection.insert_many([student1, student2])\n",
    "frame = pd.DataFrame(student1)\n",
    "print(frame)\n",
    "new_res = frame.T.to_dict()\n",
    "print(new_res)"
   ]
  },
  {
   "cell_type": "code",
   "execution_count": 49,
   "metadata": {},
   "outputs": [
    {
     "name": "stdout",
     "output_type": "stream",
     "text": [
      "{'_id': ObjectId('5b5823dc15be7837ebb5d60d'), 'id': '20170101', 'name': 'Jordan', 'age': 20, 'gender': 'male'}\n",
      "{'_id': ObjectId('5b58258a15be7837ebb5d610'), 'id': '20170101', 'name': 'Jordan', 'age': 20, 'gender': ['male', 'female']}\n",
      "{'_id': ObjectId('5b5825de15be7837ebb5d614'), 'id': '20170101', 'name': 'Jordan', 'age': 20, 'gender': [['male', 'female'], ['a', 'b']]}\n",
      "{'_id': ObjectId('5b58271215be7837ebb5d617'), 'id': '20170101', 'name': 'Jordan', 'age': 20, 'gender': {'right': [['male', 'female'], ['a', 'b']], 'left': [[1, 3], [2, 3]]}}\n",
      "<pymongo.results.InsertManyResult object at 0x116253348>\n"
     ]
    }
   ],
   "source": [
    "a = collection.find({'id': '20170101'})\n",
    "for ele in a:\n",
    "    print(ele)\n",
    "print(result)"
   ]
  },
  {
   "cell_type": "code",
   "execution_count": 29,
   "metadata": {
    "collapsed": true
   },
   "outputs": [],
   "source": [
    "client = pymongo.MongoClient(host='localhost', port=27017)\n",
    "db = client['videology']\n",
    "collection = db.v1_6\n",
    "final = collection.insert_many(result)"
   ]
  }
 ],
 "metadata": {
  "kernelspec": {
   "display_name": "Python 3",
   "language": "python",
   "name": "python3"
  },
  "language_info": {
   "codemirror_mode": {
    "name": "ipython",
    "version": 3
   },
   "file_extension": ".py",
   "mimetype": "text/x-python",
   "name": "python",
   "nbconvert_exporter": "python",
   "pygments_lexer": "ipython3",
   "version": "3.6.3"
  }
 },
 "nbformat": 4,
 "nbformat_minor": 2
}
